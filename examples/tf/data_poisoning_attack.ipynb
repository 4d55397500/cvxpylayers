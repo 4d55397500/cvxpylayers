{
 "cells": [
  {
   "cell_type": "markdown",
   "metadata": {},
   "source": [
    "# Data poisoning attack\n",
    "\n",
    "In this notebook, we use a convex optimization layer to perform a *data poisoning attack*; i.e., we show how to perturb the data used to train a logistic regression classifier so as to maximally increase the test loss. This example is also presented in section 6.1 of the paper *Differentiable convex optimization layers*."
   ]
  },
  {
   "cell_type": "code",
   "execution_count": 1,
   "metadata": {},
   "outputs": [],
   "source": [
    "import cvxpy as cp\n",
    "import matplotlib.pyplot as plt\n",
    "import numpy as np\n",
    "import tensorflow as tf\n",
    "\n",
    "\n",
    "from cvxpylayers.tensorflow.cvxpylayer import CvxpyLayer"
   ]
  },
  {
   "cell_type": "markdown",
   "metadata": {},
   "source": [
    "We are given training data $(x_i, y_i)_{i=1}^{N}$,\n",
    "where $x_i\\in\\mathbf{R}^n$ are feature vectors and $y_i\\in\\{0,1\\}$ are the labels.\n",
    "Suppose we fit a model for this classification problem by solving\n",
    "\\begin{equation}\n",
    "\\begin{array}{ll}\n",
    "\\mbox{minimize} & \\frac{1}{N}\\sum_{i=1}^N \\ell(\\theta; x_i, y_i) + r(\\theta),\n",
    "\\end{array}\n",
    "\\label{eq:trainlinear}\n",
    "\\end{equation}\n",
    "where the loss function $\\ell(\\theta; x_i, y_i)$ is convex in $\\theta \\in \\mathbf{R}^n$ and $r(\\theta)$ is a convex\n",
    "regularizer. We hope that the test loss $\\mathcal{L}^{\\mathrm{test}}(\\theta) =\n",
    "\\frac{1}{M}\\sum_{i=1}^M \\ell(\\theta; \\tilde x_i, \\tilde y_i)$ is small, where\n",
    "$(\\tilde x_i, \\tilde y_i)_{i=1}^{M}$ is our test set. In this  example, we use the logistic loss\n",
    "\n",
    "\\begin{equation}\n",
    "\\ell(\\theta; x_i, y_i) = \\log(1 + \\exp(\\beta^Tx_i + b)) - y_i(\\beta^Tx_i + b)\n",
    "\\end{equation}\n",
    "\n",
    "with elastic net regularizaiton\n",
    "\n",
    "\\begin{equation}\n",
    "r(\\theta) = 0.1\\|\\beta\\|_1 + 0.1\\|\\beta\\|_2^2.\n",
    "\\end{equation}"
   ]
  },
  {
   "cell_type": "code",
   "execution_count": 2,
   "metadata": {},
   "outputs": [],
   "source": [
    "from sklearn.datasets import make_blobs\n",
    "from sklearn.model_selection import train_test_split\n",
    "\n",
    "\n",
    "tf.random.set_seed(0)\n",
    "np.random.seed(0)\n",
    "n = 2\n",
    "N = 60\n",
    "X, y = make_blobs(N, n, centers=np.array([[2, 2], [-2, -2]]), cluster_std=3)\n",
    "Xtrain, Xtest, ytrain, ytest = train_test_split(X, y, test_size=.5)\n",
    "\n",
    "Xtrain, Xtest, ytrain, ytest = map(\n",
    "    tf.constant, [Xtrain, Xtest, ytrain, ytest])\n",
    "m = Xtrain.shape[0]\n",
    "\n",
    "lambda1_tf = tf.constant([[0.1]], dtype=tf.float64)\n",
    "lambda2_tf = tf.constant([[0.1]], dtype=tf.float64)\n",
    "\n",
    "a = cp.Variable((n, 1))\n",
    "b = cp.Variable((1, 1))\n",
    "lambda1 = cp.Parameter((1, 1), nonneg=True)\n",
    "lambda2 = cp.Parameter((1, 1), nonneg=True)\n",
    "X = cp.Parameter((m, n))\n",
    "Y = ytrain.numpy()[:, np.newaxis]\n",
    "\n",
    "log_likelihood = (1. / m) * cp.sum(\n",
    "    cp.multiply(Y, X @ a + b) -\n",
    "    cp.log_sum_exp(cp.hstack([np.zeros((m, 1)), X @ a + b]).T, axis=0,\n",
    "                   keepdims=True).T\n",
    ")\n",
    "regularization = - lambda1 * cp.norm(a, 1) - lambda2 * cp.sum_squares(a)\n",
    "prob = cp.Problem(cp.Maximize(log_likelihood + regularization))\n",
    "fit_logreg = CvxpyLayer(prob, [X, lambda1, lambda2], [a, b])"
   ]
  },
  {
   "cell_type": "markdown",
   "metadata": {},
   "source": [
    "Assume that our training data is subject to a data poisoning attack,\n",
    "before it is supplied to us. The adversary has full knowledge of our modeling\n",
    "choice, meaning that they know the form of the optimization problem above, and seeks\n",
    "to perturb the data to maximally increase our loss on the test\n",
    "set, to which they also have access. The adversary is permitted to apply an\n",
    "additive perturbation $\\delta_i \\in \\mathbf{R}^n$ to each of the training points $x_i$,\n",
    "with the perturbations satisfying $\\|\\delta_i\\|_\\infty \\leq 0.01$.\n",
    "\n",
    "Let $\\theta^\\star$ be optimal.\n",
    "The gradient of\n",
    "the test loss with respect to a training data point, $\\nabla_{x_i}\n",
    "\\mathcal{L}^{\\mathrm{test}}(\\theta^\\star)$, gives the direction\n",
    "in which the point should be moved to achieve the greatest\n",
    "increase in test loss. Hence, one reasonable adversarial policy is to set $x_i\n",
    ":= x_i +\n",
    ".01\\mathrm{sign}(\\nabla_{x_i}\\mathcal{L}^{\\mathrm{test}}(\\theta^\\star))$. The\n",
    "quantity $0.01\\sum_{i=1}^N \\|\\nabla_{x_i}\n",
    "\\mathcal{L}^{\\mathrm{test}}(\\theta^\\star)\\|_1$ is the predicted increase in\n",
    "our test loss due to the poisoning."
   ]
  },
  {
   "cell_type": "code",
   "execution_count": 3,
   "metadata": {},
   "outputs": [],
   "source": [
    "from sklearn.linear_model import LogisticRegression\n",
    "\n",
    "\n",
    "loss = tf.keras.losses.BinaryCrossentropy()\n",
    "with tf.GradientTape() as tape:\n",
    "    tape.watch(Xtrain)\n",
    "    # Apply the layer\n",
    "    slope, intercept = fit_logreg(Xtrain, lambda1_tf, lambda2_tf)\n",
    "    # 30 is scale factor so visualization is pretty\n",
    "    test_loss = 30 * loss(ytest, Xtest @ slope + intercept)\n",
    "# Compute the gradient of the test loss with respect to the training data\n",
    "Xtrain_grad = tape.gradient(test_loss, Xtrain)"
   ]
  },
  {
   "cell_type": "markdown",
   "metadata": {},
   "source": [
    "Below, we plot the gradient of the test loss with respect to the training data points. The blue and orange points are training data, belonging to different classes. The red line is the hyperplane learned by fitting the the model, while the blue line is the hyperplane that minimizes the test loss. The gradients are visualized as black lines, attached to the data points. Moving the points in the gradient directions torques the learned hyperplane away from the optimal hyperplane for the test set."
   ]
  },
  {
   "cell_type": "code",
   "execution_count": 4,
   "metadata": {},
   "outputs": [
    {
     "data": {
      "image/png": "[encoded data removed]",
      "text/plain": [
       "<Figure size 432x288 with 1 Axes>"
      ]
     },
     "metadata": {
      "needs_background": "light"
     },
     "output_type": "display_data"
    }
   ],
   "source": [
    "lr = LogisticRegression(solver='lbfgs')\n",
    "lr.fit(Xtest.numpy(), ytest.numpy())\n",
    "beta_train = slope.numpy().flatten()\n",
    "beta_test = lr.coef_.flatten()\n",
    "b_train = intercept[0, 0].numpy()\n",
    "b_test = lr.intercept_[0]\n",
    "hyperplane = lambda x, beta, b: - (b + beta[0] * x) / beta[1]\n",
    "\n",
    "Xtrain_np = Xtrain.numpy()\n",
    "Xtrain_grad_np = Xtrain_grad.numpy()\n",
    "ytrain_np = ytrain.numpy().astype(np.bool)\n",
    "\n",
    "plt.figure()\n",
    "plt.scatter(Xtrain_np[ytrain_np, 0], Xtrain_np[ytrain_np, 1], s=25)\n",
    "plt.scatter(Xtrain_np[~ytrain_np, 0], Xtrain_np[~ytrain_np, 1], s=25)\n",
    "\n",
    "for i in range(m):\n",
    "    plt.arrow(Xtrain_np[i, 0], Xtrain_np[i, 1],\n",
    "              Xtrain_grad_np[i, 0], Xtrain_grad_np[i, 1], color='black')\n",
    "\n",
    "plt.xlim(-8, 8)\n",
    "plt.ylim(-8, 8)\n",
    "\n",
    "plt.plot(np.linspace(-8, 8, 100),\n",
    "         [hyperplane(x, beta_train, b_train)\n",
    "          for x in np.linspace(-8, 8, 100)], color='red', label='train')\n",
    "plt.plot(np.linspace(-8, 8, 100),\n",
    "         [hyperplane(x, beta_test, b_test)\n",
    "         for x in np.linspace(-8, 8, 100)], color='blue', label='test')\n",
    "plt.legend()\n",
    "plt.show()"
   ]
  }
 ],
 "metadata": {
  "@webio": {
   "lastCommId": null,
   "lastKernelId": null
  },
  "kernelspec": {
   "display_name": "Python 3",
   "language": "python",
   "name": "python3"
  },
  "language_info": {
   "codemirror_mode": {
    "name": "ipython",
    "version": 3
   },
   "file_extension": ".py",
   "mimetype": "text/x-python",
   "name": "python",
   "nbconvert_exporter": "python",
   "pygments_lexer": "ipython3",
   "version": "3.7.4"
  }
 },
 "nbformat": 4,
 "nbformat_minor": 2
}
